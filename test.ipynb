{
 "cells": [
  {
   "cell_type": "code",
   "execution_count": 1,
   "metadata": {},
   "outputs": [],
   "source": [
    "import os\n",
    "import numpy as np\n",
    "import pandas as pd\n",
    "import swifter\n",
    "from sklearn.model_selection import train_test_split\n",
    "import utils\n",
    "import catboost\n",
    "import pickle"
   ]
  },
  {
   "cell_type": "code",
   "execution_count": 15,
   "metadata": {},
   "outputs": [],
   "source": [
    "def load_test_private_csv(path):\n",
    "    from itertools import repeat\n",
    "    converters = dict(zip(utils.FOI_COLUMNS, repeat(utils.parse_array)))\n",
    "    types = dict(zip(utils.SIMPLE_FEATURE_COLUMNS, repeat(np.float32)))\n",
    "    test = pd.read_csv(os.path.join(path, \"test_private_v3_track_1.csv.gz\"),\n",
    "                       index_col=\"id\", converters=converters,\n",
    "                       dtype=types,\n",
    "                       usecols=[utils.ID_COLUMN]+utils.SIMPLE_FEATURE_COLUMNS+utils.FOI_COLUMNS)\n",
    "    return test"
   ]
  },
  {
   "cell_type": "code",
   "execution_count": 16,
   "metadata": {},
   "outputs": [
    {
     "name": "stderr",
     "output_type": "stream",
     "text": [
      "/anaconda3/lib/python3.7/site-packages/numpy/lib/arraysetops.py:522: FutureWarning: elementwise comparison failed; returning scalar instead, but in the future will perform elementwise comparison\n",
      "  mask |= (ar1 == a)\n"
     ]
    }
   ],
   "source": [
    "full_test = load_test_private_csv('./')"
   ]
  },
  {
   "cell_type": "code",
   "execution_count": 18,
   "metadata": {},
   "outputs": [
    {
     "name": "stderr",
     "output_type": "stream",
     "text": [
      "Pandas Apply: 100%|██████████| 1452188/1452188 [14:46<00:00, 1637.36it/s]\n"
     ]
    }
   ],
   "source": [
    "closest_hits_features = full_test.swifter.apply(\n",
    "    utils.find_closest_hit_per_station, result_type=\"expand\", axis=1)"
   ]
  },
  {
   "cell_type": "code",
   "execution_count": 19,
   "metadata": {},
   "outputs": [
    {
     "data": {
      "text/plain": [
       "['ncl[0]',\n",
       " 'ncl[1]',\n",
       " 'ncl[2]',\n",
       " 'ncl[3]',\n",
       " 'avg_cs[0]',\n",
       " 'avg_cs[1]',\n",
       " 'avg_cs[2]',\n",
       " 'avg_cs[3]',\n",
       " 'ndof',\n",
       " 'MatchedHit_TYPE[0]',\n",
       " 'MatchedHit_TYPE[1]',\n",
       " 'MatchedHit_TYPE[2]',\n",
       " 'MatchedHit_TYPE[3]',\n",
       " 'MatchedHit_X[0]',\n",
       " 'MatchedHit_X[1]',\n",
       " 'MatchedHit_X[2]',\n",
       " 'MatchedHit_X[3]',\n",
       " 'MatchedHit_Y[0]',\n",
       " 'MatchedHit_Y[1]',\n",
       " 'MatchedHit_Y[2]',\n",
       " 'MatchedHit_Y[3]',\n",
       " 'MatchedHit_Z[0]',\n",
       " 'MatchedHit_Z[1]',\n",
       " 'MatchedHit_Z[2]',\n",
       " 'MatchedHit_Z[3]',\n",
       " 'MatchedHit_DX[0]',\n",
       " 'MatchedHit_DX[1]',\n",
       " 'MatchedHit_DX[2]',\n",
       " 'MatchedHit_DX[3]',\n",
       " 'MatchedHit_DY[0]',\n",
       " 'MatchedHit_DY[1]',\n",
       " 'MatchedHit_DY[2]',\n",
       " 'MatchedHit_DY[3]',\n",
       " 'MatchedHit_DZ[0]',\n",
       " 'MatchedHit_DZ[1]',\n",
       " 'MatchedHit_DZ[2]',\n",
       " 'MatchedHit_DZ[3]',\n",
       " 'MatchedHit_T[0]',\n",
       " 'MatchedHit_T[1]',\n",
       " 'MatchedHit_T[2]',\n",
       " 'MatchedHit_T[3]',\n",
       " 'MatchedHit_DT[0]',\n",
       " 'MatchedHit_DT[1]',\n",
       " 'MatchedHit_DT[2]',\n",
       " 'MatchedHit_DT[3]',\n",
       " 'Lextra_X[0]',\n",
       " 'Lextra_X[1]',\n",
       " 'Lextra_X[2]',\n",
       " 'Lextra_X[3]',\n",
       " 'Lextra_Y[0]',\n",
       " 'Lextra_Y[1]',\n",
       " 'Lextra_Y[2]',\n",
       " 'Lextra_Y[3]',\n",
       " 'NShared',\n",
       " 'Mextra_DX2[0]',\n",
       " 'Mextra_DX2[1]',\n",
       " 'Mextra_DX2[2]',\n",
       " 'Mextra_DX2[3]',\n",
       " 'Mextra_DY2[0]',\n",
       " 'Mextra_DY2[1]',\n",
       " 'Mextra_DY2[2]',\n",
       " 'Mextra_DY2[3]',\n",
       " 'FOI_hits_N',\n",
       " 'PT',\n",
       " 'P']"
      ]
     },
     "execution_count": 19,
     "metadata": {},
     "output_type": "execute_result"
    }
   ],
   "source": [
    "# cols = [col for col in utils.SIMPLE_FEATURE_COLUMNS if not (col.startswith('Lextra') | col.startswith('Mextra'))]\n",
    "cols = [col for col in utils.SIMPLE_FEATURE_COLUMNS]\n",
    "cols"
   ]
  },
  {
   "cell_type": "code",
   "execution_count": 20,
   "metadata": {},
   "outputs": [],
   "source": [
    "test_concat = pd.concat(\n",
    "    [full_test.loc[:, cols],\n",
    "     closest_hits_features], axis=1)"
   ]
  },
  {
   "cell_type": "code",
   "execution_count": 24,
   "metadata": {},
   "outputs": [
    {
     "data": {
      "text/plain": [
       "<catboost.core.CatBoostClassifier at 0x1c523cdda0>"
      ]
     },
     "execution_count": 24,
     "metadata": {},
     "output_type": "execute_result"
    }
   ],
   "source": [
    "model = catboost.CatBoostClassifier()\n",
    "model.load_model('./track_2_model.cbm')"
   ]
  },
  {
   "cell_type": "code",
   "execution_count": 25,
   "metadata": {},
   "outputs": [],
   "source": [
    "predictions = model.predict_proba(test_concat.values)[:, 1]"
   ]
  },
  {
   "cell_type": "code",
   "execution_count": 26,
   "metadata": {},
   "outputs": [],
   "source": [
    "pd.DataFrame(data={\"prediction\": predictions}, index=test_concat.index).to_csv(\n",
    "    \"sample_submission_private.csv\", index_label=utils.ID_COLUMN)"
   ]
  },
  {
   "cell_type": "code",
   "execution_count": null,
   "metadata": {},
   "outputs": [],
   "source": []
  }
 ],
 "metadata": {
  "kernelspec": {
   "display_name": "Python 3",
   "language": "python",
   "name": "python3"
  },
  "language_info": {
   "codemirror_mode": {
    "name": "ipython",
    "version": 3
   },
   "file_extension": ".py",
   "mimetype": "text/x-python",
   "name": "python",
   "nbconvert_exporter": "python",
   "pygments_lexer": "ipython3",
   "version": "3.7.1"
  }
 },
 "nbformat": 4,
 "nbformat_minor": 2
}
